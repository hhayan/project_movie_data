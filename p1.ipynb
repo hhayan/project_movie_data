{
 "cells": [
  {
   "cell_type": "code",
   "execution_count": null,
   "id": "f1996830",
   "metadata": {},
   "outputs": [
    {
     "name": "stdout",
     "output_type": "stream",
     "text": [
      "현재 파이썬 코드가 실행되는 디렉토리: c:\\Users\\mumu1\\Desktop\\project_movie_data\n",
      "\n"
     ]
    },
    {
     "data": {
      "text/html": [
       "<div>\n",
       "<style scoped>\n",
       "    .dataframe tbody tr th:only-of-type {\n",
       "        vertical-align: middle;\n",
       "    }\n",
       "\n",
       "    .dataframe tbody tr th {\n",
       "        vertical-align: top;\n",
       "    }\n",
       "\n",
       "    .dataframe thead th {\n",
       "        text-align: right;\n",
       "    }\n",
       "</style>\n",
       "<table border=\"1\" class=\"dataframe\">\n",
       "  <thead>\n",
       "    <tr style=\"text-align: right;\">\n",
       "      <th></th>\n",
       "      <th>order_id</th>\n",
       "      <th>customer_id</th>\n",
       "      <th>order_status</th>\n",
       "      <th>order_purchase_timestamp</th>\n",
       "      <th>order_approved_at</th>\n",
       "      <th>order_delivered_carrier_date</th>\n",
       "      <th>order_delivered_customer_date</th>\n",
       "      <th>order_estimated_delivery_date</th>\n",
       "    </tr>\n",
       "  </thead>\n",
       "  <tbody>\n",
       "    <tr>\n",
       "      <th>0</th>\n",
       "      <td>e481f51cbdc54678b7cc49136f2d6af7</td>\n",
       "      <td>9ef432eb6251297304e76186b10a928d</td>\n",
       "      <td>delivered</td>\n",
       "      <td>2017-10-02 10:56:33</td>\n",
       "      <td>2017-10-02 11:07:15</td>\n",
       "      <td>2017-10-04 19:55:00</td>\n",
       "      <td>2017-10-10 21:25:13</td>\n",
       "      <td>2017-10-18 00:00:00</td>\n",
       "    </tr>\n",
       "    <tr>\n",
       "      <th>1</th>\n",
       "      <td>53cdb2fc8bc7dce0b6741e2150273451</td>\n",
       "      <td>b0830fb4747a6c6d20dea0b8c802d7ef</td>\n",
       "      <td>delivered</td>\n",
       "      <td>2018-07-24 20:41:37</td>\n",
       "      <td>2018-07-26 03:24:27</td>\n",
       "      <td>2018-07-26 14:31:00</td>\n",
       "      <td>2018-08-07 15:27:45</td>\n",
       "      <td>2018-08-13 00:00:00</td>\n",
       "    </tr>\n",
       "    <tr>\n",
       "      <th>2</th>\n",
       "      <td>47770eb9100c2d0c44946d9cf07ec65d</td>\n",
       "      <td>41ce2a54c0b03bf3443c3d931a367089</td>\n",
       "      <td>delivered</td>\n",
       "      <td>2018-08-08 08:38:49</td>\n",
       "      <td>2018-08-08 08:55:23</td>\n",
       "      <td>2018-08-08 13:50:00</td>\n",
       "      <td>2018-08-17 18:06:29</td>\n",
       "      <td>2018-09-04 00:00:00</td>\n",
       "    </tr>\n",
       "    <tr>\n",
       "      <th>3</th>\n",
       "      <td>949d5b44dbf5de918fe9c16f97b45f8a</td>\n",
       "      <td>f88197465ea7920adcdbec7375364d82</td>\n",
       "      <td>delivered</td>\n",
       "      <td>2017-11-18 19:28:06</td>\n",
       "      <td>2017-11-18 19:45:59</td>\n",
       "      <td>2017-11-22 13:39:59</td>\n",
       "      <td>2017-12-02 00:28:42</td>\n",
       "      <td>2017-12-15 00:00:00</td>\n",
       "    </tr>\n",
       "    <tr>\n",
       "      <th>4</th>\n",
       "      <td>ad21c59c0840e6cb83a9ceb5573f8159</td>\n",
       "      <td>8ab97904e6daea8866dbdbc4fb7aad2c</td>\n",
       "      <td>delivered</td>\n",
       "      <td>2018-02-13 21:18:39</td>\n",
       "      <td>2018-02-13 22:20:29</td>\n",
       "      <td>2018-02-14 19:46:34</td>\n",
       "      <td>2018-02-16 18:17:02</td>\n",
       "      <td>2018-02-26 00:00:00</td>\n",
       "    </tr>\n",
       "  </tbody>\n",
       "</table>\n",
       "</div>"
      ],
      "text/plain": [
       "                           order_id                       customer_id  \\\n",
       "0  e481f51cbdc54678b7cc49136f2d6af7  9ef432eb6251297304e76186b10a928d   \n",
       "1  53cdb2fc8bc7dce0b6741e2150273451  b0830fb4747a6c6d20dea0b8c802d7ef   \n",
       "2  47770eb9100c2d0c44946d9cf07ec65d  41ce2a54c0b03bf3443c3d931a367089   \n",
       "3  949d5b44dbf5de918fe9c16f97b45f8a  f88197465ea7920adcdbec7375364d82   \n",
       "4  ad21c59c0840e6cb83a9ceb5573f8159  8ab97904e6daea8866dbdbc4fb7aad2c   \n",
       "\n",
       "  order_status order_purchase_timestamp    order_approved_at  \\\n",
       "0    delivered      2017-10-02 10:56:33  2017-10-02 11:07:15   \n",
       "1    delivered      2018-07-24 20:41:37  2018-07-26 03:24:27   \n",
       "2    delivered      2018-08-08 08:38:49  2018-08-08 08:55:23   \n",
       "3    delivered      2017-11-18 19:28:06  2017-11-18 19:45:59   \n",
       "4    delivered      2018-02-13 21:18:39  2018-02-13 22:20:29   \n",
       "\n",
       "  order_delivered_carrier_date order_delivered_customer_date  \\\n",
       "0          2017-10-04 19:55:00           2017-10-10 21:25:13   \n",
       "1          2018-07-26 14:31:00           2018-08-07 15:27:45   \n",
       "2          2018-08-08 13:50:00           2018-08-17 18:06:29   \n",
       "3          2017-11-22 13:39:59           2017-12-02 00:28:42   \n",
       "4          2018-02-14 19:46:34           2018-02-16 18:17:02   \n",
       "\n",
       "  order_estimated_delivery_date  \n",
       "0           2017-10-18 00:00:00  \n",
       "1           2018-08-13 00:00:00  \n",
       "2           2018-09-04 00:00:00  \n",
       "3           2017-12-15 00:00:00  \n",
       "4           2018-02-26 00:00:00  "
      ]
     },
     "metadata": {},
     "output_type": "display_data"
    }
   ],
   "source": [
    "import seaborn as sns\n",
    "import numpy as np\n",
    "import pandas as pd\n",
    "import matplotlib.pyplot as plt\n",
    "from IPython.display import display\n",
    "import os\n",
    "\n",
    "current_working_directory = os.getcwd()\n",
    "print(f\"현재 파이썬 코드가 실행되는 디렉토리: {current_working_directory}\\n\")\n",
    "\n",
    "file_path_relative = 'olist_orders_dataset.csv'\n",
    "df = pd.read_csv(file_path_relative, encoding='ISO-8859-1')\n",
    "\n",
    "display(df.head())\n",
    "\n",
    "# 데이터 탐색 : 누락, 중복, 이상\n",
    "df.describe()\n",
    "df.info()"
   ]
  },
  {
   "cell_type": "code",
   "execution_count": null,
   "id": "8d7a7bcf",
   "metadata": {},
   "outputs": [],
   "source": [
    "%pip install pandas-summary"
   ]
  },
  {
   "cell_type": "code",
   "execution_count": null,
   "id": "2ff1edf9",
   "metadata": {},
   "outputs": [],
   "source": [
    "# from pandas_summary import DataFrameSummary\n",
    "# # 프로파일링\n",
    "# dfs = DataFrameSummary(df)\n",
    "# print(dfs.summary())"
   ]
  },
  {
   "cell_type": "code",
   "execution_count": 47,
   "id": "c0d11907",
   "metadata": {},
   "outputs": [
    {
     "data": {
      "text/plain": [
       "order_id                            0\n",
       "customer_id                         0\n",
       "order_status                        0\n",
       "order_purchase_timestamp            0\n",
       "order_approved_at                 160\n",
       "order_delivered_carrier_date     1783\n",
       "order_delivered_customer_date    2965\n",
       "order_estimated_delivery_date       0\n",
       "dtype: int64"
      ]
     },
     "execution_count": 47,
     "metadata": {},
     "output_type": "execute_result"
    }
   ],
   "source": [
    "df.isnull().sum()"
   ]
  },
  {
   "cell_type": "code",
   "execution_count": null,
   "id": "299c9c14",
   "metadata": {},
   "outputs": [
    {
     "name": "stdout",
     "output_type": "stream",
     "text": [
      "\n",
      "=== 이상값 확인 ===\n",
      "컬럼별 음수 개수: {'purchase_to_approved': np.int64(0), 'approved_to_carrier': np.int64(1350), 'carrier_to_customer': np.int64(23), 'purchase_to_customer': np.int64(0)}\n",
      "전체 음수 개수 (한 행이라도 음수): 1373\n"
     ]
    }
   ],
   "source": [
    "# 결측치 삭제\n",
    "clean_df = df.copy()\n",
    "clean_df = clean_df.dropna(subset=['order_approved_at',\n",
    "                             'order_delivered_carrier_date',\n",
    "                             'order_delivered_customer_date'])\n",
    "\n",
    "# 이상치 탐지: 계산한 배송시간 차이가 크거나 작은 경우\n",
    "print('\\n=== 이상값 확인 ===')\n",
    "df_delivered = df[df[\"order_status\"]==\"delivered\"].copy()\n",
    "\n",
    "# 데이터 타입 변환\n",
    "df_delivered[\"order_approved_at\"] = pd.to_datetime(df_delivered[\"order_approved_at\"])\n",
    "df_delivered[\"order_purchase_timestamp\"] = pd.to_datetime(df_delivered[\"order_purchase_timestamp\"])\n",
    "df_delivered[\"order_delivered_carrier_date\"] = pd.to_datetime(df_delivered[\"order_delivered_carrier_date\"])\n",
    "df_delivered[\"order_delivered_customer_date\"] = pd.to_datetime(df_delivered[\"order_delivered_customer_date\"])\n",
    "df_delivered[\"order_purchase_timestamp\"] = pd.to_datetime(df_delivered[\"order_purchase_timestamp\"])\n",
    "\n",
    "# 시간 차이 계산 (일 단위)\n",
    "# 결제까지 걸린 시간: 주문승인일 - 결제일\n",
    "df_delivered[\"purchase_to_approved\"] = (df_delivered[\"order_approved_at\"] - df_delivered[\"order_purchase_timestamp\"]).dt.total_seconds()/86400\n",
    "# 주문-배송 걸린 시간: 배송완료일 - 주문승인일\n",
    "df_delivered[\"approved_to_carrier\"] = (df_delivered[\"order_delivered_carrier_date\"] - df_delivered[\"order_approved_at\"]).dt.total_seconds()/86400\n",
    "# 택배사-배송 걸린 시간: 배송완료일 - 택배사 전달일\n",
    "df_delivered[\"carrier_to_customer\"] = (df_delivered[\"order_delivered_customer_date\"] - df_delivered[\"order_delivered_carrier_date\"]).dt.total_seconds()/86400\n",
    "# 계산-배송 걸린 시간: - 배송완료일 - 주문계산일\n",
    "df_delivered[\"purchase_to_customer\"] = (df_delivered[\"order_delivered_customer_date\"] - df_delivered[\"order_purchase_timestamp\"]).dt.total_seconds()/86400\n",
    "\n",
    "# 모든 시간 계산 컬럼에서 음수 값만 찾기\n",
    "# 시간 계산 컬럼 리스트\n",
    "time_cols = [\"purchase_to_approved\",\"approved_to_carrier\",\"carrier_to_customer\",\"purchase_to_customer\"]\n",
    "\n",
    "# 각 컬럼별 음수 개수 계산\n",
    "neg_counts = {col: (df_delivered[col] < 0).sum() for col in time_cols}\n",
    "\n",
    "# 전체 음수 개수 (한 행이라도 음수인 경우)\n",
    "total_neg = df_delivered[(df_delivered[time_cols] < 0).any(axis=1)].shape[0]\n",
    "\n",
    "# 결과 출력\n",
    "print(\"컬럼별 음수 개수:\", neg_counts)\n",
    "print(\"전체 음수 개수 (한 행이라도 음수):\", total_neg)\n",
    "\n",
    "# \n"
   ]
  }
 ],
 "metadata": {
  "kernelspec": {
   "display_name": "Python 3",
   "language": "python",
   "name": "python3"
  },
  "language_info": {
   "codemirror_mode": {
    "name": "ipython",
    "version": 3
   },
   "file_extension": ".py",
   "mimetype": "text/x-python",
   "name": "python",
   "nbconvert_exporter": "python",
   "pygments_lexer": "ipython3",
   "version": "3.13.2"
  }
 },
 "nbformat": 4,
 "nbformat_minor": 5
}
