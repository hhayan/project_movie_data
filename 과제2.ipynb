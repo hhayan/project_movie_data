{
 "cells": [
  {
   "cell_type": "code",
   "execution_count": 2,
   "id": "2cc6ccba",
   "metadata": {},
   "outputs": [
    {
     "name": "stdout",
     "output_type": "stream",
     "text": [
      "Requirement already satisfied: pandas-summary in c:\\users\\mumu1\\desktop\\project_movie_data\\venv\\lib\\site-packages (0.2.0)\n",
      "Requirement already satisfied: datatile in c:\\users\\mumu1\\desktop\\project_movie_data\\venv\\lib\\site-packages (from pandas-summary) (1.0.3)\n",
      "Requirement already satisfied: numpy in c:\\users\\mumu1\\desktop\\project_movie_data\\venv\\lib\\site-packages (from pandas-summary) (2.3.2)\n",
      "Requirement already satisfied: pandas in c:\\users\\mumu1\\desktop\\project_movie_data\\venv\\lib\\site-packages (from pandas-summary) (2.3.1)\n",
      "Requirement already satisfied: traceml<1.1 in c:\\users\\mumu1\\desktop\\project_movie_data\\venv\\lib\\site-packages (from datatile->pandas-summary) (1.0.8)\n",
      "Requirement already satisfied: python-dateutil>=2.8.2 in c:\\users\\mumu1\\desktop\\project_movie_data\\venv\\lib\\site-packages (from pandas->pandas-summary) (2.9.0.post0)\n",
      "Requirement already satisfied: pytz>=2020.1 in c:\\users\\mumu1\\desktop\\project_movie_data\\venv\\lib\\site-packages (from pandas->pandas-summary) (2025.2)\n",
      "Requirement already satisfied: tzdata>=2022.7 in c:\\users\\mumu1\\desktop\\project_movie_data\\venv\\lib\\site-packages (from pandas->pandas-summary) (2025.2)\n",
      "Requirement already satisfied: six>=1.5 in c:\\users\\mumu1\\desktop\\project_movie_data\\venv\\lib\\site-packages (from python-dateutil>=2.8.2->pandas->pandas-summary) (1.17.0)\n",
      "Note: you may need to restart the kernel to use updated packages.\n"
     ]
    },
    {
     "name": "stderr",
     "output_type": "stream",
     "text": [
      "\n",
      "[notice] A new release of pip is available: 24.3.1 -> 25.2\n",
      "[notice] To update, run: python.exe -m pip install --upgrade pip\n"
     ]
    }
   ],
   "source": [
    "import seaborn as sns\n",
    "import numpy as np\n",
    "import pandas as pd\n",
    "import matplotlib.pyplot as plt\n",
    "from IPython.display import display\n",
    "import os\n",
    "from scipy.stats import zscore\n",
    "\n",
    "import warnings\n",
    "\n",
    "warnings.filterwarnings('ignore', category=UserWarning)\n",
    "plt.rcParams['font.family'] = 'Malgun Gothic'\n",
    "plt.rcParams['axes.unicode_minus'] = False\n",
    "%pip install pandas-summary"
   ]
  },
  {
   "cell_type": "code",
   "execution_count": 6,
   "id": "afe25659",
   "metadata": {},
   "outputs": [
    {
     "name": "stdout",
     "output_type": "stream",
     "text": [
      "✅ 모든 파일이 개별적으로 메모리에 로드되었습니다.\n"
     ]
    },
    {
     "ename": "ModuleNotFoundError",
     "evalue": "No module named 'pro1'",
     "output_type": "error",
     "traceback": [
      "\u001b[31m---------------------------------------------------------------------------\u001b[39m",
      "\u001b[31mModuleNotFoundError\u001b[39m                       Traceback (most recent call last)",
      "\u001b[36mCell\u001b[39m\u001b[36m \u001b[39m\u001b[32mIn[6]\u001b[39m\u001b[32m, line 17\u001b[39m\n\u001b[32m     13\u001b[39m \u001b[38;5;28mprint\u001b[39m(\u001b[33m\"\u001b[39m\u001b[33m✅ 모든 파일이 개별적으로 메모리에 로드되었습니다.\u001b[39m\u001b[33m\"\u001b[39m)\n\u001b[32m     15\u001b[39m \u001b[38;5;66;03m# from pro1 import df_order\u001b[39;00m\n\u001b[32m---> \u001b[39m\u001b[32m17\u001b[39m \u001b[38;5;28;01mfrom\u001b[39;00m\u001b[38;5;250m \u001b[39m\u001b[34;01mpro1\u001b[39;00m\u001b[38;5;250m \u001b[39m\u001b[38;5;28;01mimport\u001b[39;00m o_df_customers, o_df_geolocation, o_df_order_items, o_df_order_payments, o_df_order_reviews, o_df_products, o_df_sellers\n",
      "\u001b[31mModuleNotFoundError\u001b[39m: No module named 'pro1'"
     ]
    }
   ],
   "source": [
    "# 파일들이 있는 폴더 경로\n",
    "folder_path = 'C:/Users/mumu1/Desktop/project_movie_data/project_dataset'\n",
    "\n",
    "# 파일 이름을 변수에 할당\n",
    "o_df_customers = pd.read_csv(os.path.join(folder_path, 'olist_customers_dataset.csv'), encoding='ISO-8859-1')\n",
    "o_df_geolocation = pd.read_csv(os.path.join(folder_path, 'olist_geolocation_dataset.csv'), encoding='ISO-8859-1')\n",
    "o_df_order_items = pd.read_csv(os.path.join(folder_path, 'olist_order_items_dataset.csv'), encoding='ISO-8859-1')\n",
    "o_df_order_payments = pd.read_csv(os.path.join(folder_path, 'olist_order_payments_dataset.csv'), encoding='ISO-8859-1')\n",
    "o_df_order_reviews = pd.read_csv(os.path.join(folder_path, 'olist_order_reviews_dataset.csv'), encoding='ISO-8859-1')\n",
    "o_df_products = pd.read_csv(os.path.join(folder_path, 'olist_products_dataset.csv'), encoding='ISO-8859-1')\n",
    "o_df_sellers = pd.read_csv(os.path.join(folder_path, 'olist_sellers_dataset.csv'), encoding='ISO-8859-1')\n",
    "\n",
    "print(\"✅ 모든 파일이 개별적으로 메모리에 로드되었습니다.\")\n",
    "\n",
    "# from pro1 import df_order\n",
    "\n",
    "from pro1 import o_df_customers, o_df_geolocation, o_df_order_items, o_df_order_payments, o_df_order_reviews, o_df_products, o_df_sellers"
   ]
  },
  {
   "cell_type": "markdown",
   "id": "3d5da608",
   "metadata": {},
   "source": [
    "# 과제 2: 배송 성과 분석 및 지역별 물류 최적화 방안\n",
    "\n",
    "주문부터 배송 완료까지의 시간을 분석하고, 지역별 배송 성과 차이를 파악하여 물류 최적화 방안을 도출하세요. 배송 지연이 고객 만족도(리뷰 점수)에 미치는 영향도 함께 분석하세요."
   ]
  },
  {
   "cell_type": "code",
   "execution_count": null,
   "id": "94165ba0",
   "metadata": {},
   "outputs": [],
   "source": []
  }
 ],
 "metadata": {
  "kernelspec": {
   "display_name": "venv (3.13.2)",
   "language": "python",
   "name": "python3"
  },
  "language_info": {
   "codemirror_mode": {
    "name": "ipython",
    "version": 3
   },
   "file_extension": ".py",
   "mimetype": "text/x-python",
   "name": "python",
   "nbconvert_exporter": "python",
   "pygments_lexer": "ipython3",
   "version": "3.13.2"
  }
 },
 "nbformat": 4,
 "nbformat_minor": 5
}
